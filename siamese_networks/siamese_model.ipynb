{
  "cells": [
    {
      "cell_type": "markdown",
      "metadata": {
        "id": "view-in-github",
        "colab_type": "text"
      },
      "source": [
        "<a href=\"https://colab.research.google.com/github/ravitata/conv_networks/blob/main/siamese_networks/siamese_model.ipynb\" target=\"_parent\"><img src=\"https://colab.research.google.com/assets/colab-badge.svg\" alt=\"Open In Colab\"/></a>"
      ]
    },
    {
      "cell_type": "markdown",
      "source": [
        "https://www.pyimagesearch.com/2020/11/23/building-image-pairs-for-siamese-networks-with-python/\n",
        "\n",
        "https://www.pyimagesearch.com/2020/11/30/siamese-networks-with-keras-tensorflow-and-deep-learning/\n",
        "\n",
        "https://www.pyimagesearch.com/2020/12/07/comparing-images-for-similarity-using-siamese-networks-keras-and-tensorflow/"
      ],
      "metadata": {
        "id": "iri_sIz-OG0q"
      }
    },
    {
      "cell_type": "code",
      "source": [
        "import numpy as np\n",
        "from tensorflow.keras.datasets import mnist\n",
        "from matplotlib import pyplot as plt\n",
        "\n",
        "a = np.array([1,2,3,4,5,6,7,8,9,0])\n",
        "#print(a)\n",
        "np.where(a%2==0)[0]"
      ],
      "metadata": {
        "colab": {
          "base_uri": "https://localhost:8080/"
        },
        "id": "nJTTI24EcbZE",
        "outputId": "c01a3353-03ee-463a-ecdf-548e5ce03981"
      },
      "execution_count": 1,
      "outputs": [
        {
          "output_type": "execute_result",
          "data": {
            "text/plain": [
              "array([1, 3, 5, 7, 9])"
            ]
          },
          "metadata": {},
          "execution_count": 1
        }
      ]
    },
    {
      "cell_type": "code",
      "source": [
        "(x_train, y_train), (x_test, y_test) = mnist.load_data()\n",
        "print(x_train.shape)\n",
        "print(x_test.shape)\n"
      ],
      "metadata": {
        "colab": {
          "base_uri": "https://localhost:8080/"
        },
        "id": "uYRG8dML6z7A",
        "outputId": "a527967e-27c4-468e-8174-6caca9e6ff52"
      },
      "execution_count": 2,
      "outputs": [
        {
          "output_type": "stream",
          "name": "stdout",
          "text": [
            "Downloading data from https://storage.googleapis.com/tensorflow/tf-keras-datasets/mnist.npz\n",
            "11493376/11490434 [==============================] - 0s 0us/step\n",
            "11501568/11490434 [==============================] - 0s 0us/step\n",
            "(60000, 28, 28)\n",
            "(10000, 28, 28)\n"
          ]
        }
      ]
    },
    {
      "cell_type": "code",
      "source": [
        "def make_pairs(images, labels):\n",
        "  pair_images = []\n",
        "  pair_labels = []\n",
        "\n",
        "  num_classes = len(np.unique(labels))\n",
        "  \n",
        "  idx = [np.where(labels == i)[0] for i in range(0, num_classes)]\n",
        "  #print(idx)\n",
        "  \n",
        "  for i in range(0, len(labels)):\n",
        "    curr_img = images[i]\n",
        "    curr_label = labels[i]\n",
        "\n",
        "    pos_idx = np.random.choice(idx[curr_label])\n",
        "    pos_img = images[pos_idx]\n",
        "    \n",
        "    pair_images.append([curr_img, pos_img])\n",
        "    pair_labels.append(1)\n",
        "\n",
        "    neg_idx = np.random.choice(np.where(labels != curr_label)[0])\n",
        "    neg_img = images[neg_idx]\n",
        "\n",
        "    pair_images.append([curr_img, neg_img])\n",
        "    pair_labels.append(0)\n",
        "  \n",
        "  return np.array(pair_images), np.array(pair_labels)\n"
      ],
      "metadata": {
        "id": "bpze8JONcj8Y"
      },
      "execution_count": 3,
      "outputs": []
    },
    {
      "cell_type": "code",
      "source": [
        "train_pair, train_labels = make_pairs(x_train, y_train)\n",
        "test_pair, test_labels = make_pairs(x_test, y_test)\n",
        "print(train_pair.shape)\n",
        "print(train_labels.shape)"
      ],
      "metadata": {
        "colab": {
          "base_uri": "https://localhost:8080/"
        },
        "id": "gtVwpyUi7Z5T",
        "outputId": "3504e8b1-54f6-4617-84d3-88371a98b48a"
      },
      "execution_count": 4,
      "outputs": [
        {
          "output_type": "stream",
          "name": "stdout",
          "text": [
            "(120000, 2, 28, 28)\n",
            "(120000,)\n"
          ]
        }
      ]
    },
    {
      "cell_type": "code",
      "source": [
        "def show_pair_images(img_idx, pair_images, pair_labels):\n",
        "  fig = plt.figure()\n",
        "  #fig.title('Label = '+pair_labels[img_idx])\n",
        "  plt.subplot(1,2,1)\n",
        "  plt.imshow(pair_images[img_idx,0,:,:])\n",
        "  plt.subplot(1,2,2)\n",
        "  plt.imshow(pair_images[img_idx,1,:,:])\n",
        "  y = pair_labels[img_idx].astype(str)\n",
        "  y_desc = 'Positive'\n",
        "  if y == '0':\n",
        "    y_desc = 'Negative'\n",
        "      \n",
        "  plt.title('Label = '+y+' - '+y_desc)"
      ],
      "metadata": {
        "id": "TKzvzzZDdajg"
      },
      "execution_count": 38,
      "outputs": []
    },
    {
      "cell_type": "code",
      "source": [
        "show_pair_images(0, train_pair, train_labels)"
      ],
      "metadata": {
        "colab": {
          "base_uri": "https://localhost:8080/",
          "height": 216
        },
        "id": "Aig6mqYoebO4",
        "outputId": "f44f08e0-69a0-42b4-8fec-54a9c2966381"
      },
      "execution_count": 40,
      "outputs": [
        {
          "output_type": "display_data",
          "data": {
            "image/png": "[encoded data removed]",
            "text/plain": [
              "<Figure size 432x288 with 2 Axes>"
            ]
          },
          "metadata": {
            "needs_background": "light"
          }
        }
      ]
    },
    {
      "cell_type": "code",
      "source": [
        "import tensorflow as tf\n",
        "import tensorflow.keras.backend as K"
      ],
      "metadata": {
        "id": "Wjj7gM6Jegn_"
      },
      "execution_count": 7,
      "outputs": []
    },
    {
      "cell_type": "code",
      "source": [
        "def build_seimese_model(inputShape, embeddingDim = 48):\n",
        "  inputs = tf.keras.layers.Input(shape=inputShape)\n",
        "\n",
        "  #1st layer\n",
        "  x = tf.keras.layers.Conv2D(64,(2,2), padding='same', activation='relu',)(inputs)\n",
        "  x = tf.keras.layers.MaxPool2D(pool_size=(2,2))(x)\n",
        "  x= tf.keras.layers.Dropout(0.3)(x)\n",
        "\n",
        "  #2nd layer\n",
        "  x = tf.keras.layers.Conv2D(64,(2,2), padding='same', activation='relu')(x)\n",
        "  x = tf.keras.layers.MaxPool2D(pool_size=(2,2))(x)\n",
        "  x= tf.keras.layers.Dropout(0.3)(x)\n",
        "\n",
        "  x = tf.keras.layers.GlobalAveragePooling2D()(x)\n",
        "\n",
        "  outputs = tf.keras.layers.Dense(embeddingDim)(x)\n",
        "\n",
        "  model = tf.keras.models.Model(inputs, outputs)\n",
        "\n",
        "  return model\n",
        "  "
      ],
      "metadata": {
        "id": "pwlooyHcfcOs"
      },
      "execution_count": 8,
      "outputs": []
    },
    {
      "cell_type": "code",
      "source": [
        "def euclidean_distance(vector):\n",
        "  (featuresA, fealturesB) = vector\n",
        "\n",
        "  sumofSquare = K.sum(K.square(featuresA - fealturesB), axis = 1, keepdims=True)\n",
        "\n",
        "  return K.sqrt(K.maximum(sumofSquare, K.epsilon()))"
      ],
      "metadata": {
        "id": "gv16KjjVik-w"
      },
      "execution_count": 9,
      "outputs": []
    },
    {
      "cell_type": "code",
      "source": [
        "def plot_training(H, plotPath):\n",
        "\t# construct a plot that plots and saves the training history\n",
        "\tplt.style.use(\"ggplot\")\n",
        "\tplt.figure()\n",
        "\tplt.plot(H.history[\"loss\"], label=\"train_loss\")\n",
        "\tplt.plot(H.history[\"val_loss\"], label=\"val_loss\")\n",
        "\tplt.plot(H.history[\"accuracy\"], label=\"train_acc\")\n",
        "\tplt.plot(H.history[\"val_accuracy\"], label=\"val_acc\")\n",
        "\tplt.title(\"Training Loss and Accuracy\")\n",
        "\tplt.xlabel(\"Epoch #\")\n",
        "\tplt.ylabel(\"Loss/Accuracy\")\n",
        "\tplt.legend(loc=\"lower left\")\n",
        "\tplt.savefig(plotPath)"
      ],
      "metadata": {
        "id": "gJAJzmcQ1WpD"
      },
      "execution_count": 10,
      "outputs": []
    },
    {
      "cell_type": "code",
      "source": [
        "#building Siamese network\n",
        "imgA = tf.keras.layers.Input(shape=(28,28,1))\n",
        "imgB = tf.keras.layers.Input(shape=(28,28,1))\n",
        "\n",
        "featureExtractor = build_seimese_model((28,28,1))\n",
        "\n",
        "featuresA = featureExtractor(imgA)\n",
        "featuresB = featureExtractor(imgB)\n",
        "\n",
        "featureExtractor.compile()\n",
        "featureExtractor.summary()\n"
      ],
      "metadata": {
        "colab": {
          "base_uri": "https://localhost:8080/"
        },
        "id": "8rNvLfII1YNb",
        "outputId": "b5f67134-57a6-4ec6-e9c7-216ae610270d"
      },
      "execution_count": 11,
      "outputs": [
        {
          "output_type": "stream",
          "name": "stdout",
          "text": [
            "Model: \"model\"\n",
            "_________________________________________________________________\n",
            " Layer (type)                Output Shape              Param #   \n",
            "=================================================================\n",
            " input_3 (InputLayer)        [(None, 28, 28, 1)]       0         \n",
            "                                                                 \n",
            " conv2d (Conv2D)             (None, 28, 28, 64)        320       \n",
            "                                                                 \n",
            " max_pooling2d (MaxPooling2D  (None, 14, 14, 64)       0         \n",
            " )                                                               \n",
            "                                                                 \n",
            " dropout (Dropout)           (None, 14, 14, 64)        0         \n",
            "                                                                 \n",
            " conv2d_1 (Conv2D)           (None, 14, 14, 64)        16448     \n",
            "                                                                 \n",
            " max_pooling2d_1 (MaxPooling  (None, 7, 7, 64)         0         \n",
            " 2D)                                                             \n",
            "                                                                 \n",
            " dropout_1 (Dropout)         (None, 7, 7, 64)          0         \n",
            "                                                                 \n",
            " global_average_pooling2d (G  (None, 64)               0         \n",
            " lobalAveragePooling2D)                                          \n",
            "                                                                 \n",
            " dense (Dense)               (None, 48)                3120      \n",
            "                                                                 \n",
            "=================================================================\n",
            "Total params: 19,888\n",
            "Trainable params: 19,888\n",
            "Non-trainable params: 0\n",
            "_________________________________________________________________\n"
          ]
        }
      ]
    },
    {
      "cell_type": "code",
      "source": [
        "distance = tf.keras.layers.Lambda(euclidean_distance)([featuresA, featuresB])\n",
        "outputs = tf.keras.layers.Dense(1, activation='sigmoid')(distance)\n",
        "model = tf.keras.models.Model(inputs=([imgA, imgB]), outputs = outputs)\n",
        "\n",
        "model.compile(optimizer='adam',loss='binary_crossentropy',metrics=['accuracy'])\n",
        "model.summary()\n"
      ],
      "metadata": {
        "colab": {
          "base_uri": "https://localhost:8080/"
        },
        "id": "l3FS619y3RAM",
        "outputId": "7db281b4-cc28-4b84-c6ee-955ef41cd301"
      },
      "execution_count": 12,
      "outputs": [
        {
          "output_type": "stream",
          "name": "stdout",
          "text": [
            "Model: \"model_1\"\n",
            "__________________________________________________________________________________________________\n",
            " Layer (type)                   Output Shape         Param #     Connected to                     \n",
            "==================================================================================================\n",
            " input_1 (InputLayer)           [(None, 28, 28, 1)]  0           []                               \n",
            "                                                                                                  \n",
            " input_2 (InputLayer)           [(None, 28, 28, 1)]  0           []                               \n",
            "                                                                                                  \n",
            " model (Functional)             (None, 48)           19888       ['input_1[0][0]',                \n",
            "                                                                  'input_2[0][0]']                \n",
            "                                                                                                  \n",
            " lambda (Lambda)                (None, 1)            0           ['model[0][0]',                  \n",
            "                                                                  'model[1][0]']                  \n",
            "                                                                                                  \n",
            " dense_1 (Dense)                (None, 1)            2           ['lambda[0][0]']                 \n",
            "                                                                                                  \n",
            "==================================================================================================\n",
            "Total params: 19,890\n",
            "Trainable params: 19,890\n",
            "Non-trainable params: 0\n",
            "__________________________________________________________________________________________________\n"
          ]
        }
      ]
    },
    {
      "cell_type": "code",
      "source": [
        "history = model.fit(x=[train_pair[:,0], train_pair[:,1]]\n",
        "          , y=train_labels[:]\n",
        "          , validation_data=[[test_pair[:,0], test_pair[:,1]]\n",
        "                             , test_labels[:]]\n",
        "          , batch_size=32\n",
        "          , epochs = 5)"
      ],
      "metadata": {
        "colab": {
          "base_uri": "https://localhost:8080/"
        },
        "id": "EQceCPvDCXkK",
        "outputId": "dc320f6e-6aea-401d-a899-b970721d7de7"
      },
      "execution_count": 14,
      "outputs": [
        {
          "output_type": "stream",
          "name": "stdout",
          "text": [
            "Epoch 1/5\n",
            "3750/3750 [==============================] - 19s 5ms/step - loss: 0.6933 - accuracy: 0.5017 - val_loss: 0.6932 - val_accuracy: 0.5000\n",
            "Epoch 2/5\n",
            "3750/3750 [==============================] - 20s 5ms/step - loss: 0.6932 - accuracy: 0.4972 - val_loss: 0.6932 - val_accuracy: 0.5000\n",
            "Epoch 3/5\n",
            "3750/3750 [==============================] - 18s 5ms/step - loss: 0.6932 - accuracy: 0.4985 - val_loss: 0.6932 - val_accuracy: 0.5000\n",
            "Epoch 4/5\n",
            "3750/3750 [==============================] - 18s 5ms/step - loss: 0.6602 - accuracy: 0.5773 - val_loss: 0.6051 - val_accuracy: 0.6880\n",
            "Epoch 5/5\n",
            "3750/3750 [==============================] - 20s 5ms/step - loss: 0.5945 - accuracy: 0.6810 - val_loss: 0.5230 - val_accuracy: 0.7622\n"
          ]
        }
      ]
    },
    {
      "cell_type": "code",
      "source": [
        "print(history.history.keys())"
      ],
      "metadata": {
        "colab": {
          "base_uri": "https://localhost:8080/"
        },
        "id": "YKplNCXwCwzS",
        "outputId": "694e721b-0c9f-4196-a320-243fa4a1f134"
      },
      "execution_count": 16,
      "outputs": [
        {
          "output_type": "stream",
          "name": "stdout",
          "text": [
            "dict_keys(['loss', 'accuracy', 'val_loss', 'val_accuracy'])\n"
          ]
        }
      ]
    },
    {
      "cell_type": "code",
      "source": [
        "plt.plot(history.history['loss'])\n",
        "plt.plot(history.history['val_loss'])\n",
        "plt.title('Training loss vs Validation loss')\n",
        "plt.xlabel('epochs')\n",
        "plt.ylabel('loss')\n",
        "plt.legend(['training', 'validation'],loc='lower left')\n",
        "plt.show()"
      ],
      "metadata": {
        "colab": {
          "base_uri": "https://localhost:8080/",
          "height": 295
        },
        "id": "mW3fP0AfCpFM",
        "outputId": "12f8127d-4b9b-4a49-d98f-d2dea09a6e3a"
      },
      "execution_count": 22,
      "outputs": [
        {
          "output_type": "display_data",
          "data": {
            "image/png": "[encoded data removed]",
            "text/plain": [
              "<Figure size 432x288 with 1 Axes>"
            ]
          },
          "metadata": {
            "needs_background": "light"
          }
        }
      ]
    },
    {
      "cell_type": "code",
      "source": [
        "plt.plot(history.history['accuracy'])\n",
        "plt.plot(history.history['val_accuracy'])\n",
        "plt.title('Model Accuracy')\n",
        "plt.xlabel('epochs')\n",
        "plt.ylabel('Accuravy')\n",
        "plt.legend(['training', 'validation'],loc='upper left')\n",
        "plt.show()"
      ],
      "metadata": {
        "colab": {
          "base_uri": "https://localhost:8080/",
          "height": 295
        },
        "id": "K4zIjG5grZK6",
        "outputId": "3241be4f-2cad-40ee-873a-7de404920358"
      },
      "execution_count": 23,
      "outputs": [
        {
          "output_type": "display_data",
          "data": {
            "image/png": "[encoded data removed]",
            "text/plain": [
              "<Figure size 432x288 with 1 Axes>"
            ]
          },
          "metadata": {
            "needs_background": "light"
          }
        }
      ]
    },
    {
      "cell_type": "code",
      "source": [
        "#prediction\n",
        "\n",
        "idx = 4\n",
        "imgA = test_pair[idx, 0, :, :]\n",
        "imgB = test_pair[idx, 1, :, :]\n",
        "y = test_labels[idx].astype(str)\n",
        "\n",
        "plt.subplot(1,2,1)\n",
        "plt.imshow(imgA)\n",
        "plt.subplot(1,2,2)\n",
        "plt.imshow(imgB)\n",
        "\n",
        "\n",
        "y_desc = 'Positive'\n",
        "if y == '0':\n",
        "   y_desc = 'Negative'\n",
        "      \n",
        "plt.title('Label = '+y+' - '+y_desc)\n",
        "plt.show()\n"
      ],
      "metadata": {
        "colab": {
          "base_uri": "https://localhost:8080/",
          "height": 216
        },
        "id": "3lpmr8qmrubw",
        "outputId": "89ea7f46-79aa-4ae6-c162-1e507754474c"
      },
      "execution_count": 73,
      "outputs": [
        {
          "output_type": "display_data",
          "data": {
            "image/png": "[encoded data removed]",
            "text/plain": [
              "<Figure size 432x288 with 2 Axes>"
            ]
          },
          "metadata": {
            "needs_background": "light"
          }
        }
      ]
    },
    {
      "cell_type": "code",
      "source": [
        "#add channel dim\n",
        "print(imgA.shape)\n",
        "print(imgB.shape)\n",
        "imgA1 = tf.expand_dims(imgA, axis = -1)\n",
        "imgB1 = tf.expand_dims(imgB, axis = -1)\n",
        "\n",
        "#add batch dim\n",
        "imgA2 = tf.expand_dims(imgA1, axis = 0)\n",
        "imgB2 = tf.expand_dims(imgB1, axis = 0)\n",
        "\n",
        "print(imgA2.shape)\n",
        "print(imgB2.shape)\n",
        "\n",
        "preds = model.predict([imgA2, imgB2])\n",
        "print('Probability/similarity score = ', preds[0][0])\n",
        "\n"
      ],
      "metadata": {
        "colab": {
          "base_uri": "https://localhost:8080/"
        },
        "id": "hPsN_mpMvj_H",
        "outputId": "084be62d-d0f3-4a42-dca0-548d026b0575"
      },
      "execution_count": 74,
      "outputs": [
        {
          "output_type": "stream",
          "name": "stdout",
          "text": [
            "(28, 28)\n",
            "(28, 28)\n",
            "(1, 28, 28, 1)\n",
            "(1, 28, 28, 1)\n",
            "Probability/similarity score =  0.7730725\n"
          ]
        }
      ]
    },
    {
      "cell_type": "code",
      "source": [
        ""
      ],
      "metadata": {
        "id": "9ZZaZ8aexQck"
      },
      "execution_count": null,
      "outputs": []
    }
  ],
  "metadata": {
    "colab": {
      "collapsed_sections": [],
      "name": "Welcome To Colaboratory",
      "provenance": [],
      "include_colab_link": true
    },
    "kernelspec": {
      "display_name": "Python 3",
      "name": "python3"
    },
    "accelerator": "GPU"
  },
  "nbformat": 4,
  "nbformat_minor": 0
}