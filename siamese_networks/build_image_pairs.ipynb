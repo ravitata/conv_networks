{
  "cells": [
    {
      "cell_type": "markdown",
      "metadata": {
        "id": "view-in-github",
        "colab_type": "text"
      },
      "source": [
        "<a href=\"https://colab.research.google.com/github/ravitata/conv_networks/blob/main/siamese_networks/build_image_pairs.ipynb\" target=\"_parent\"><img src=\"https://colab.research.google.com/assets/colab-badge.svg\" alt=\"Open In Colab\"/></a>"
      ]
    },
    {
      "cell_type": "code",
      "source": [
        "import numpy as np\n",
        "from tensorflow.keras.datasets import mnist\n",
        "from matplotlib import pyplot as plt\n",
        "\n",
        "a = np.array([1,2,3,4,5,6,7,8,9,0])\n",
        "#print(a)\n",
        "np.where(a%2==0)[0]"
      ],
      "metadata": {
        "colab": {
          "base_uri": "https://localhost:8080/"
        },
        "id": "nJTTI24EcbZE",
        "outputId": "cc4a4363-35d3-4698-b50d-2d4bbf5811ed"
      },
      "execution_count": 42,
      "outputs": [
        {
          "output_type": "execute_result",
          "data": {
            "text/plain": [
              "array([1, 3, 5, 7, 9])"
            ]
          },
          "metadata": {},
          "execution_count": 42
        }
      ]
    },
    {
      "cell_type": "code",
      "source": [
        "(x_train, y_train), (x_test, y_test) = mnist.load_data()\n",
        "print(x_train.shape)\n",
        "print(x_test.shape)\n"
      ],
      "metadata": {
        "id": "uYRG8dML6z7A",
        "outputId": "7b77d999-40b3-4de2-dba2-ab0ac611fcbd",
        "colab": {
          "base_uri": "https://localhost:8080/"
        }
      },
      "execution_count": 35,
      "outputs": [
        {
          "output_type": "stream",
          "name": "stdout",
          "text": [
            "(60000, 28, 28)\n",
            "(10000, 28, 28)\n"
          ]
        }
      ]
    },
    {
      "cell_type": "code",
      "source": [
        "def make_pairs(images, labels):\n",
        "  pair_images = []\n",
        "  pair_labels = []\n",
        "\n",
        "  num_classes = len(np.unique(labels))\n",
        "  \n",
        "  idx = [np.where(labels == i)[0] for i in range(0, num_classes)]\n",
        "  #print(idx)\n",
        "  \n",
        "  for i in range(0, len(labels)):\n",
        "    curr_img = images[i]\n",
        "    curr_label = labels[i]\n",
        "\n",
        "    pos_idx = np.random.choice(idx[curr_label])\n",
        "    pos_img = images[pos_idx]\n",
        "    \n",
        "    pair_images.append([curr_img, pos_img])\n",
        "    pair_labels.append(1)\n",
        "\n",
        "    neg_idx = np.random.choice(np.where(labels != curr_label)[0])\n",
        "    neg_img = images[neg_idx]\n",
        "\n",
        "    pair_images.append([curr_img, neg_img])\n",
        "    pair_labels.append(0)\n",
        "  \n",
        "  return np.array(pair_images), np.array(pair_labels)\n"
      ],
      "metadata": {
        "id": "bpze8JONcj8Y"
      },
      "execution_count": 40,
      "outputs": []
    },
    {
      "cell_type": "code",
      "source": [
        "pair_images, pair_labels = make_pairs(x_train, y_train)\n",
        "print(pair_images.shape)\n",
        "print(pair_labels.shape)"
      ],
      "metadata": {
        "id": "gtVwpyUi7Z5T",
        "outputId": "2ca001b6-2db9-4dc6-b02e-5489fde49157",
        "colab": {
          "base_uri": "https://localhost:8080/"
        }
      },
      "execution_count": 41,
      "outputs": [
        {
          "output_type": "stream",
          "name": "stdout",
          "text": [
            "(120000, 2, 28, 28)\n",
            "(120000,)\n"
          ]
        }
      ]
    },
    {
      "cell_type": "code",
      "source": [
        "img_idx = 1\n",
        "plt.imshow(pair_images[img_idx,0,:,:])"
      ],
      "metadata": {
        "id": "uiejb0zN7mqj",
        "outputId": "9782910e-ccd9-4112-b911-ed19da948c93",
        "colab": {
          "base_uri": "https://localhost:8080/",
          "height": 282
        }
      },
      "execution_count": 68,
      "outputs": [
        {
          "output_type": "execute_result",
          "data": {
            "text/plain": [
              "<matplotlib.image.AxesImage at 0x7f6c7d10bf50>"
            ]
          },
          "metadata": {},
          "execution_count": 68
        },
        {
          "output_type": "display_data",
          "data": {
            "image/png": "[encoded data removed]",
            "text/plain": [
              "<Figure size 432x288 with 1 Axes>"
            ]
          },
          "metadata": {
            "needs_background": "light"
          }
        }
      ]
    },
    {
      "cell_type": "code",
      "source": [
        "plt.imshow(pair_images[img_idx,1,:,:])"
      ],
      "metadata": {
        "id": "A2mdNHhxVteW",
        "outputId": "2cfc5f71-d847-48db-ce46-f8a5d7364594",
        "colab": {
          "base_uri": "https://localhost:8080/",
          "height": 282
        }
      },
      "execution_count": 69,
      "outputs": [
        {
          "output_type": "execute_result",
          "data": {
            "text/plain": [
              "<matplotlib.image.AxesImage at 0x7f6c7d0f59d0>"
            ]
          },
          "metadata": {},
          "execution_count": 69
        },
        {
          "output_type": "display_data",
          "data": {
            "image/png": "[encoded data removed]",
            "text/plain": [
              "<Figure size 432x288 with 1 Axes>"
            ]
          },
          "metadata": {
            "needs_background": "light"
          }
        }
      ]
    },
    {
      "cell_type": "code",
      "source": [
        "pair_labels[img_idx]"
      ],
      "metadata": {
        "id": "q_CngTMkV2FI",
        "outputId": "de0209a7-fb33-4f76-e2a6-aaf55863f73c",
        "colab": {
          "base_uri": "https://localhost:8080/"
        }
      },
      "execution_count": 70,
      "outputs": [
        {
          "output_type": "execute_result",
          "data": {
            "text/plain": [
              "0"
            ]
          },
          "metadata": {},
          "execution_count": 70
        }
      ]
    },
    {
      "cell_type": "code",
      "source": [
        "def show_pair_images(img_idx, pair_images, pair_labels):\n",
        "  fig = plt.figure()\n",
        "  #fig.title('Label = '+pair_labels[img_idx])\n",
        "  plt.subplot(1,2,1)\n",
        "  plt.imshow(pair_images[img_idx,0,:,:])\n",
        "  plt.subplot(1,2,2)\n",
        "  plt.imshow(pair_images[img_idx,1,:,:])\n",
        "  plt.title('Label = '+pair_labels[img_idx].astype(str))"
      ],
      "metadata": {
        "id": "TKzvzzZDdajg"
      },
      "execution_count": 83,
      "outputs": []
    },
    {
      "cell_type": "code",
      "source": [
        "show_pair_images(3, pair_images, pair_labels)"
      ],
      "metadata": {
        "id": "Aig6mqYoebO4",
        "outputId": "8db6d300-9e16-4033-f41e-9efcf7719870",
        "colab": {
          "base_uri": "https://localhost:8080/",
          "height": 216
        }
      },
      "execution_count": 87,
      "outputs": [
        {
          "output_type": "display_data",
          "data": {
            "image/png": "[encoded data removed]",
            "text/plain": [
              "<Figure size 432x288 with 2 Axes>"
            ]
          },
          "metadata": {
            "needs_background": "light"
          }
        }
      ]
    },
    {
      "cell_type": "code",
      "source": [
        ""
      ],
      "metadata": {
        "id": "Wjj7gM6Jegn_"
      },
      "execution_count": null,
      "outputs": []
    }
  ],
  "metadata": {
    "colab": {
      "collapsed_sections": [],
      "name": "Welcome To Colaboratory",
      "provenance": [],
      "include_colab_link": true
    },
    "kernelspec": {
      "display_name": "Python 3",
      "name": "python3"
    }
  },
  "nbformat": 4,
  "nbformat_minor": 0
}